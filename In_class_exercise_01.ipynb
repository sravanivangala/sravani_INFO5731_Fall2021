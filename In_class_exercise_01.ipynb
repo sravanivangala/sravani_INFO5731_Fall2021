{
  "nbformat": 4,
  "nbformat_minor": 0,
  "metadata": {
    "colab": {
      "name": "In_class_exercise_01.ipynb",
      "provenance": [],
      "collapsed_sections": [],
      "include_colab_link": true
    },
    "kernelspec": {
      "display_name": "Python 3",
      "language": "python",
      "name": "python3"
    },
    "language_info": {
      "codemirror_mode": {
        "name": "ipython",
        "version": 3
      },
      "file_extension": ".py",
      "mimetype": "text/x-python",
      "name": "python",
      "nbconvert_exporter": "python",
      "pygments_lexer": "ipython3",
      "version": "3.8.5"
    }
  },
  "cells": [
    {
      "cell_type": "markdown",
      "metadata": {
        "id": "view-in-github",
        "colab_type": "text"
      },
      "source": [
        "<a href=\"https://colab.research.google.com/github/sravanivangala/sravani_INFO5731_Fall2021/blob/main/In_class_exercise_01.ipynb\" target=\"_parent\"><img src=\"https://colab.research.google.com/assets/colab-badge.svg\" alt=\"Open In Colab\"/></a>"
      ]
    },
    {
      "cell_type": "markdown",
      "metadata": {
        "id": "DymRJbxDBCnf"
      },
      "source": [
        "# **The first In-class-exercise (09/01/2021, 40 points in total)**"
      ]
    },
    {
      "cell_type": "markdown",
      "metadata": {
        "id": "03jb4GZsBkBS"
      },
      "source": [
        "(1) Write a Python program to calculate the length of a string. (4 points)"
      ]
    },
    {
      "cell_type": "code",
      "metadata": {
        "colab": {
          "base_uri": "https://localhost:8080/"
        },
        "id": "YaGLbSHHB8Ej",
        "outputId": "a9974704-5445-46b5-b500-a319ab95fbb5"
      },
      "source": [
        "# write your answer here\n",
        "sample_string = input(\"enter a string: \")\n",
        "print(len(sample_string))"
      ],
      "execution_count": 5,
      "outputs": [
        {
          "output_type": "stream",
          "name": "stdout",
          "text": [
            "enter a string: why\n",
            "3\n"
          ]
        }
      ]
    },
    {
      "cell_type": "markdown",
      "metadata": {
        "id": "jJDe71iLB616"
      },
      "source": [
        "(2) Write a Python program to count the number of characters in a string. (4 points)\n",
        "\n",
        "Sample String : 'google.com‘, \n",
        "\n",
        "Expected Result : {'o': 3, 'g': 2, '.': 1, 'e': 1, 'l': 1, 'm': 1, 'c': 1}"
      ]
    },
    {
      "cell_type": "code",
      "metadata": {
        "colab": {
          "base_uri": "https://localhost:8080/"
        },
        "id": "MtKskTzbCLaU",
        "outputId": "155ee552-629c-4f63-b7e8-5e7c187864da"
      },
      "source": [
        "# write your answer here\n",
        "sample_string = \"alliswell\" \n",
        "freq = {}\n",
        "for i in sample_string:\n",
        "    if i in freq:\n",
        "        freq[i] += 1\n",
        "    else:\n",
        "        freq[i] = 1\n",
        "print (\"Count of each character in given string is :\\n \")\n",
        "print (freq)"
      ],
      "execution_count": 51,
      "outputs": [
        {
          "output_type": "stream",
          "name": "stdout",
          "text": [
            "Count of each character in given string is :\n",
            " \n",
            "{'a': 1, 'l': 4, 'i': 1, 's': 1, 'w': 1, 'e': 1}\n"
          ]
        }
      ]
    },
    {
      "cell_type": "markdown",
      "metadata": {
        "id": "55W9AMdXCSpV"
      },
      "source": [
        "(3) Write a Python program to sum all the items in a list. (4 points)"
      ]
    },
    {
      "cell_type": "code",
      "metadata": {
        "colab": {
          "base_uri": "https://localhost:8080/"
        },
        "id": "I57NXsauCec2",
        "outputId": "8cda63ea-38ae-429d-dcc9-811f14b2d591"
      },
      "source": [
        "# write your answer here\n",
        "sample_list = [31, 15, 13, 28, 27]\n",
        "total = sum(sample_list)\n",
        "print(\"Sum of all elements in given list: \", total)"
      ],
      "execution_count": 14,
      "outputs": [
        {
          "output_type": "stream",
          "name": "stdout",
          "text": [
            "Sum of all elements in given list:  114\n"
          ]
        }
      ]
    },
    {
      "cell_type": "markdown",
      "metadata": {
        "id": "4ulBZ6yhCi9F"
      },
      "source": [
        "(4) Write a Python program to get a string from a given string where all occurrences of its first char have been changed to '\\$', except the first char itself. (4 points)\n",
        "\n",
        "Sample String : 'restart‘, \n",
        "\n",
        "Expected Result : 'resta\\$t'"
      ]
    },
    {
      "cell_type": "code",
      "metadata": {
        "colab": {
          "base_uri": "https://localhost:8080/"
        },
        "id": "Fj0XhwbBCw2o",
        "outputId": "d05180f5-279f-4eac-e341-469b031f2f0a"
      },
      "source": [
        "# write your answer here\n",
        "def char_replace(str1):\n",
        "  char = str1[0]\n",
        "  str1 = str1.replace(char, '$')\n",
        "  str1 = char + str1[1:]\n",
        "  return str1\n",
        "\n",
        "print(char_replace('restart'))\n"
      ],
      "execution_count": 16,
      "outputs": [
        {
          "output_type": "stream",
          "name": "stdout",
          "text": [
            "resta$t\n"
          ]
        }
      ]
    },
    {
      "cell_type": "markdown",
      "metadata": {
        "id": "_bIP7s1MCzue"
      },
      "source": [
        "(5) Write a program with python which could accept two parameter a and b to calculate and output the result of S, where \n",
        "\n",
        "$\\ S=3.14*(1+a/b)^3$ (4 points)\n",
        "\n"
      ]
    },
    {
      "cell_type": "code",
      "metadata": {
        "colab": {
          "base_uri": "https://localhost:8080/"
        },
        "id": "w79QilHXD3Mg",
        "outputId": "22e250d4-68a6-44ff-a6dc-8945eaa4cce2"
      },
      "source": [
        "# write your answer here\n",
        "a = input(\"enter value for a : \")\n",
        "b = input(\"enter value for b : \")\n",
        "s = 3.14 * pow (1 + int(a)/int(b) , 3)\n",
        "print(\" the value of S is : \")\n",
        "print(s)"
      ],
      "execution_count": 25,
      "outputs": [
        {
          "output_type": "stream",
          "name": "stdout",
          "text": [
            "enter value for a : 3\n",
            "enter value for b : 4\n",
            " the value of S is : \n",
            "16.8284375\n"
          ]
        }
      ]
    },
    {
      "cell_type": "markdown",
      "metadata": {
        "id": "xCa2bK9aD4Q3"
      },
      "source": [
        "(6) Write a Python program to concatenate following dictionaries to create a new one. (4 points)\n",
        "\n",
        "Sample Dictionary : dic1={1:10, 2:20}, dic2={3:30, 4:40}, dic3={5:50,6:60}, \n",
        "\n",
        "Expected Result : {1: 10, 2: 20, 3: 30, 4: 40, 5: 50, 6: 60}\n"
      ]
    },
    {
      "cell_type": "code",
      "metadata": {
        "colab": {
          "base_uri": "https://localhost:8080/"
        },
        "id": "_z4aLqAbEET1",
        "outputId": "02e82aa6-edea-430e-ef5b-572e61704d37"
      },
      "source": [
        "# write your answer here\n",
        "dic1={1:10, 2:20}\n",
        "dic2={3:30, 4:40}\n",
        "dic3={5:50,6:60}\n",
        "dic4 = {}\n",
        "for d in (dic1, dic2, dic3): dic4.update(d)\n",
        "print(dic4) "
      ],
      "execution_count": 44,
      "outputs": [
        {
          "output_type": "stream",
          "name": "stdout",
          "text": [
            "{1: 10, 2: 20, 3: 30, 4: 40, 5: 50, 6: 60}\n"
          ]
        }
      ]
    },
    {
      "cell_type": "markdown",
      "metadata": {
        "id": "0v48Vqa7FrQh"
      },
      "source": [
        "(7) Write a Python program to check whether an element exists within a tuple. (4 points)"
      ]
    },
    {
      "cell_type": "code",
      "metadata": {
        "colab": {
          "base_uri": "https://localhost:8080/"
        },
        "id": "7WEmgq-DF2P1",
        "outputId": "2594eec2-86d0-4540-8466-b755d2eddfed"
      },
      "source": [
        "# write your answer here\n",
        "tuple1 = (\"c\", \"0\", \"6\", \"r\", \".\", \"f\", \"a\")\n",
        "x1 = input(\"enter a character to check in the tuple: \")\n",
        "print(x1 in tuple1)"
      ],
      "execution_count": 29,
      "outputs": [
        {
          "output_type": "stream",
          "name": "stdout",
          "text": [
            "enter a character to check in the tuple: a\n",
            "True\n"
          ]
        }
      ]
    },
    {
      "cell_type": "markdown",
      "metadata": {
        "id": "vD5PYLMuGga_"
      },
      "source": [
        "(8) Write a Python program to find maximum and the minimum value in a set. (4 points)"
      ]
    },
    {
      "cell_type": "code",
      "metadata": {
        "colab": {
          "base_uri": "https://localhost:8080/"
        },
        "id": "t0D5kdJUGjjw",
        "outputId": "64b4c7a9-9815-4f28-c303-c2efe02fd5e2"
      },
      "source": [
        "# write your answer here\n",
        "set1 = {23, 56, 14, 8, 90, 45}\n",
        "print(\"the max value in the given set is: \")\n",
        "print(max(set1))\n",
        "print(\"the min value in the given set is: \")\n",
        "print(min(set1))"
      ],
      "execution_count": 26,
      "outputs": [
        {
          "output_type": "stream",
          "name": "stdout",
          "text": [
            "the max value in the given set is: \n",
            "90\n",
            "the min value in the given set is: \n",
            "8\n"
          ]
        }
      ]
    },
    {
      "cell_type": "markdown",
      "metadata": {
        "id": "uHkd-y5VhVWC"
      },
      "source": [
        "(9) Write a Python program to randomly divide the students in this class into six groups for term projects, each group should have at least 4 students but no more than 6 students (including 6). Here is the students list: (4 points)\n",
        "\n",
        "studnet_list = ['vmb0067','pc0353','snd0097','yye0005','sg0940','bk0301','rak0120','rrk0058','spk0057','vl0135','nm0547','pn0159',\n",
        "           'msp0174','dd0420','ds0761','rs0850','ss1995','at0739','at0768','mv0299','tv0119','dy0091','py0080','ttp0037','hc0439','ri0094','pk0339', 'hn0145','mn0426']"
      ]
    },
    {
      "cell_type": "code",
      "metadata": {
        "id": "3iGbmcOBhTwy"
      },
      "source": [
        "# write your answer here\n",
        "studnet_list = ['vmb0067','pc0353','snd0097','yye0005','sg0940','bk0301','rak0120','rrk0058','spk0057','vl0135','nm0547','pn0159','msp0174','dd0420','ds0761',\n",
        "                'rs0850','ss1995','at0739','at0768','mv0299','tv0119','dy0091','py0080','ttp0037','hc0439','ri0094','pk0339', 'hn0145','mn0426']\n"
      ],
      "execution_count": null,
      "outputs": []
    },
    {
      "cell_type": "markdown",
      "metadata": {
        "id": "cCrZfV6BprHI"
      },
      "source": [
        "(10) Write a Python program to find the duplicate elements in a given array of integers. Return -1 If there are no such elements. (4 points)"
      ]
    },
    {
      "cell_type": "code",
      "metadata": {
        "colab": {
          "base_uri": "https://localhost:8080/"
        },
        "id": "6wmJFqpPprHI",
        "outputId": "1cad809a-40e1-4e07-c248-a5c27e9d9483"
      },
      "source": [
        "# write your answer here\n",
        "a1 = [1, 2, 3, 4, 4, 7, 8]\n",
        "x = 0     \n",
        "print(\"Duplicate elements in the given array : \")    \n",
        "for i in range(0, len(a1)):    \n",
        "    for j in range(i+1, len(a1)):    \n",
        "        if(a1[i] == a1[j]):    \n",
        "            print(a1[j])\n",
        "            x +=1\n",
        "if(x==0):\n",
        "  print(\"-1\")        "
      ],
      "execution_count": 41,
      "outputs": [
        {
          "output_type": "stream",
          "name": "stdout",
          "text": [
            "Duplicate elements in the given array : \n",
            "4\n"
          ]
        }
      ]
    },
    {
      "cell_type": "markdown",
      "metadata": {
        "id": "sU57QArHprHJ"
      },
      "source": [
        "(11) Write a Python program to select all the Sundays of a specified year. (4 extra points)"
      ]
    },
    {
      "cell_type": "code",
      "metadata": {
        "colab": {
          "base_uri": "https://localhost:8080/"
        },
        "id": "q0vASJNFprHJ",
        "outputId": "1d38662d-2931-4120-d17d-54d7208bca91"
      },
      "source": [
        "# write your answer here\n",
        "from datetime import date, timedelta\n",
        "\n",
        "def allsundays(year):\n",
        "   d = date(year, 1, 1) # January 1st\n",
        "   d += timedelta(days = 6 - d.weekday())  # First Sunday\n",
        "   while d.year == year:  #making sure the dates are in the same year\n",
        "      yield d\n",
        "      d += timedelta(days = 7)  #yielding all sundays\n",
        "\n",
        "for d in allsundays(1964):\n",
        "   print(d)"
      ],
      "execution_count": 43,
      "outputs": [
        {
          "output_type": "stream",
          "name": "stdout",
          "text": [
            "1964-01-05\n",
            "1964-01-12\n",
            "1964-01-19\n",
            "1964-01-26\n",
            "1964-02-02\n",
            "1964-02-09\n",
            "1964-02-16\n",
            "1964-02-23\n",
            "1964-03-01\n",
            "1964-03-08\n",
            "1964-03-15\n",
            "1964-03-22\n",
            "1964-03-29\n",
            "1964-04-05\n",
            "1964-04-12\n",
            "1964-04-19\n",
            "1964-04-26\n",
            "1964-05-03\n",
            "1964-05-10\n",
            "1964-05-17\n",
            "1964-05-24\n",
            "1964-05-31\n",
            "1964-06-07\n",
            "1964-06-14\n",
            "1964-06-21\n",
            "1964-06-28\n",
            "1964-07-05\n",
            "1964-07-12\n",
            "1964-07-19\n",
            "1964-07-26\n",
            "1964-08-02\n",
            "1964-08-09\n",
            "1964-08-16\n",
            "1964-08-23\n",
            "1964-08-30\n",
            "1964-09-06\n",
            "1964-09-13\n",
            "1964-09-20\n",
            "1964-09-27\n",
            "1964-10-04\n",
            "1964-10-11\n",
            "1964-10-18\n",
            "1964-10-25\n",
            "1964-11-01\n",
            "1964-11-08\n",
            "1964-11-15\n",
            "1964-11-22\n",
            "1964-11-29\n",
            "1964-12-06\n",
            "1964-12-13\n",
            "1964-12-20\n",
            "1964-12-27\n"
          ]
        }
      ]
    }
  ]
}