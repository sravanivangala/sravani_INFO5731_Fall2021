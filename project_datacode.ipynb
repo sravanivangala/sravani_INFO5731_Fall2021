{
  "nbformat": 4,
  "nbformat_minor": 0,
  "metadata": {
    "colab": {
      "name": "project_datacode.ipynb",
      "provenance": [],
      "authorship_tag": "ABX9TyPhsdWQvI2DdcROCkwd7LWN",
      "include_colab_link": true
    },
    "kernelspec": {
      "name": "python3",
      "display_name": "Python 3"
    },
    "language_info": {
      "name": "python"
    }
  },
  "cells": [
    {
      "cell_type": "markdown",
      "metadata": {
        "id": "view-in-github",
        "colab_type": "text"
      },
      "source": [
        "<a href=\"https://colab.research.google.com/github/sravanivangala/sravani_INFO5731_Fall2021/blob/main/project_datacode.ipynb\" target=\"_parent\"><img src=\"https://colab.research.google.com/assets/colab-badge.svg\" alt=\"Open In Colab\"/></a>"
      ]
    },
    {
      "cell_type": "code",
      "metadata": {
        "id": "3RbFsgZnmZGX"
      },
      "source": [
        "key = \"5oXgUp9JOCQI4zE4gEennlnQpQQzEk2OqXdq6qCW\"\n",
        "from bs4 import BeautifulSoup\n",
        "import requests, json\n",
        "import pandas as pd"
      ],
      "execution_count": 7,
      "outputs": []
    },
    {
      "cell_type": "code",
      "metadata": {
        "id": "GTqS3Uw5mfWa"
      },
      "source": [
        "url = \"https://api.regulations.gov/v4/dockets?filter[searchTerm]=Endangered and Threatened Wildlife and Plants; 90-Day Finding for Two Petitions to List the Gray Wolf in the Western United States&api_key=\" + key # creating the url\n",
        "soup = BeautifulSoup(requests.get(url).content, 'lxml') # Request for data\n",
        "# Extracting the doket id and object ids\n",
        "data = json.loads(soup.body.p.text)[\"data\"] \n",
        "data\n",
        "docket_id = [i['id'] for i in data]\n",
        "docket_object_id = [i['attributes']['objectId'] for i in data]"
      ],
      "execution_count": 10,
      "outputs": []
    },
    {
      "cell_type": "code",
      "metadata": {
        "id": "1QLJqhCOssb9"
      },
      "source": [
        "# This cell will go through all the dockets and get their documents ids and object ids\n",
        "document_ids = []\n",
        "document_objectId = []\n",
        "for dockt in docket_id:\n",
        "    url = \"https://api.regulations.gov/v4/documents?filter[docketId]=\"+dockt+\"&api_key=\" + key\n",
        "    soup = BeautifulSoup(requests.get(url).content, 'lxml')\n",
        "    data = json.loads(soup.body.p.text)[\"data\"]\n",
        "    document_ids.append([i['id'] for i in data]) # get document ids\n",
        "    document_objectId.append([i['attributes']['objectId'] for i in data]) # get document object ids \n",
        "document_ids = list(set([j for i in document_ids for j in i])) # removing similar ids \n",
        "document_objectId = list(set([j for i in document_objectId for j in i])) # Removing similar object ids of documents"
      ],
      "execution_count": 11,
      "outputs": []
    },
    {
      "cell_type": "code",
      "metadata": {
        "id": "Mon_clSWtA5V"
      },
      "source": [
        "# This cell will get all the comments ids from the above scrapped document object ids\n",
        "commentsIds = []\n",
        "for doc_objectId in document_objectId:\n",
        "    for num in range(1, 21): # check for first 5000 comments from each document\n",
        "        url = \"https://api.regulations.gov/v4/comments?filter[commentOnId]=\"+doc_objectId+\"&page[size]=250&page[number]=\"+str(num)+\"&sort=lastModifiedDate,documentId&api_key=\"+ key\n",
        "        soup = BeautifulSoup(requests.get(url).content, 'lxml')\n",
        "        try:\n",
        "            comment_id_data = json.loads(soup.body.p.text)['data'] \n",
        "            if comment_id_data==[]: break # break the loop if their is seq of empty pages\n",
        "            commentsIds.append([i['id'] for i in comment_id_data]) \n",
        "        except: break\n",
        "commentsIds = list(set([j for i in commentsIds for j in i if j!=[]])) # remove similar comment ids"
      ],
      "execution_count": 12,
      "outputs": []
    },
    {
      "cell_type": "code",
      "metadata": {
        "id": "iI6Qr_IQtTgE"
      },
      "source": [
        "# this cell will get comments from each comment id and store it into dict formate\n",
        "comments = {}\n",
        "for comment_id in commentsIds:\n",
        "    url = \"https://api.regulations.gov/v4/comments/\"+comment_id+\"?include=attachments&api_key=\"+ key\n",
        "    soup = BeautifulSoup(requests.get(url).content, 'lxml')\n",
        "    try: comments[comment_id]= json.loads(soup.body.p.text)[\"data\"][\"attributes\"][\"comment\"]\n",
        "    except: pass"
      ],
      "execution_count": 13,
      "outputs": []
    },
    {
      "cell_type": "code",
      "metadata": {
        "id": "VRkWCt3fzZ3n"
      },
      "source": [
        "# Save the comments\n",
        "df = pd.DataFrame(comments.items(), columns=[\"Comment_Id\", 'Comment'])\n",
        "df.to_csv(\"Comments.CSV\", index=False)"
      ],
      "execution_count": 14,
      "outputs": []
    }
  ]
}